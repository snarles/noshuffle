{
 "metadata": {
  "name": "",
  "signature": "sha256:92df6989c5a3e5f7d8c3a5ef4e756acc45d07c0f71086373b35914ef4ce84378"
 },
 "nbformat": 3,
 "nbformat_minor": 0,
 "worksheets": [
  {
   "cells": [
    {
     "cell_type": "markdown",
     "metadata": {},
     "source": [
      "A game is defined in terms of the two player's decks, fields, discards, points, and current turn phase.\n",
      "\n",
      "Cards are defined in terms of 0: name, 1: input sign, 2: output sign, 3: instant effect, 4: a function which computes the number of choices of the instant effect, 5: untapped field ability and 6: a function which computes the number of choices of the field ability.  The instant effect is defined as a function handle which takes a game state and an integer representing player choice as input and returns a game state as output.  Cards are implemented as lists.  The zodiac signs are represented by integers from 0 to 4.\n",
      "\n",
      "0 : Circle [O]\n",
      "1 : Hourglass [X]\n",
      "2 : Triangle [A]\n",
      "3 : Square [H]\n",
      "4 : Star [S]\n",
      "\n",
      "A gamestate is implemented as a list.  The 0th and 1st element of the list are objects containing the two player's information, element 2 of the list is the current turn, element 3 is the current player (0 or 1) and the element 4 is the current phase (0=delayed effect phase, 1=action phase, 2=play phase), and element 5 is the current zodiac sign.\n",
      "\n",
      "The objects containing player information are lists.  Element 0 is the player's bid, Element 1 is the player's score,  Element 2 are the player's cards, Element 4 are the tapped cards in deck, Element 4 is the New Card zone, Element 5 are the untapped cards in the field, Element 6 are the tapped cards in the field, Element 7 is the discard pile.\n",
      "\n",
      "Cards in decks/fields/etc are represented by integers.  The corresponding card objects are stored in a global card list."
     ]
    },
    {
     "cell_type": "code",
     "collapsed": false,
     "input": [
      "def null_effect(gamestate,choice):\n",
      "    return gamestate\n",
      "\n",
      "def const_zero(gamestate):\n",
      "    return 0\n",
      "\n",
      "def const_one(gamestate):\n",
      "    return 1\n",
      "\n",
      "def smile_effect(gamestate,choice):\n",
      "    gamestate2 = gamestate\n",
      "    current_player = gamestate[3]\n",
      "    # increase the player's score by 1\n",
      "    gamestate2[current_player][1] = gamestate[current_player][1] + 2\n",
      "\n",
      "card_smile =     [\"Smile\",      0, 1, smile_effect, const_one, null_effect, const_zero]\n",
      "card_copy =      [\"Copy\",       0, 3, smile_effect, const_one, null_effect, const_zero]\n",
      "card_thief =     [\"Thief\",      1, 2, smile_effect, const_one, null_effect, const_zero]\n",
      "card_maths =     [\"Maths!\",     1, 4, smile_effect, const_one, null_effect, const_zero]\n",
      "card_icecream =  [\"Ice Cream\",  2, 3, smile_effect, const_one, null_effect, const_zero]\n",
      "card_woohoo =    [\"Woohoo!\",    2, 0, smile_effect, const_one, null_effect, const_zero]\n",
      "card_robinhood = [\"Robin Hood\", 3, 1, smile_effect, const_one, null_effect, const_zero]\n",
      "card_christmas = [\"Christmas\",  3, 4, smile_effect, const_one, null_effect, const_zero]\n",
      "card_science =   [\"Science\",    4, 0, smile_effect, const_one, null_effect, const_zero]\n",
      "card_piggybank = [\"Piggy Bank\", 4, 2, smile_effect, const_one, null_effect, const_zero]\n",
      "\n",
      "global_cards = [card_smile, card_copy, card_thief, card_maths, card_icecream, \\\n",
      "                card_woohoo, card_robinhood, card_christmas, card_science, card_piggybank]"
     ],
     "language": "python",
     "metadata": {},
     "outputs": [],
     "prompt_number": 4
    },
    {
     "cell_type": "code",
     "collapsed": false,
     "input": [
      "default_deck = [0,0,1,1,2,2,3,3,4,4,5,5,6,6,7,7,8,8,9,9]\n",
      "len(default_deck)"
     ],
     "language": "python",
     "metadata": {},
     "outputs": [
      {
       "metadata": {},
       "output_type": "pyout",
       "prompt_number": 5,
       "text": [
        "20"
       ]
      }
     ],
     "prompt_number": 5
    },
    {
     "cell_type": "code",
     "collapsed": false,
     "input": [
      "player1_info = [20,0,list(default_deck),[],[],[],[],[]]\n",
      "print len(player1_info)\n",
      "player2_info = list(player1_info)\n",
      "initial_game_state = [list(player1_info),list(player2_info),0,]\n",
      "print len(initial_game_state)"
     ],
     "language": "python",
     "metadata": {},
     "outputs": [
      {
       "output_type": "stream",
       "stream": "stdout",
       "text": [
        "8\n",
        "3\n"
       ]
      }
     ],
     "prompt_number": 9
    },
    {
     "cell_type": "code",
     "collapsed": false,
     "input": [],
     "language": "python",
     "metadata": {},
     "outputs": []
    },
    {
     "cell_type": "code",
     "collapsed": false,
     "input": [],
     "language": "python",
     "metadata": {},
     "outputs": []
    }
   ],
   "metadata": {}
  }
 ]
}