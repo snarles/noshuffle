{
 "metadata": {
  "name": "",
  "signature": "sha256:e66aa967fd9cfd9308a54dcc1d16e52b2d88063cc3dc54f761626f0adc63bfbb"
 },
 "nbformat": 3,
 "nbformat_minor": 0,
 "worksheets": []
}