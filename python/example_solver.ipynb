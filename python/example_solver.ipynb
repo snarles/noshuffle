{
 "metadata": {
  "name": "",
  "signature": "sha256:18e93127aa6951bf833fe223ac1864cf196656223640b111e2eb7bffbe7b4364"
 },
 "nbformat": 3,
 "nbformat_minor": 0,
 "worksheets": [
  {
   "cells": [
    {
     "cell_type": "markdown",
     "metadata": {},
     "source": [
      "A game is defined in terms of the two player's decks, fields, discards, points, and current turn phase.\n",
      "\n",
      "Cards are defined in terms of 0: name, 1: primary sign, 2: secondary sign, 3: instant effect, 4: a function which computes the number of choices of the instant effect, 5: tap effect and 6: a function which computes the number of choices of the tap effect.  The instant effect is defined as a function handle which takes a game state as input and returns a game state as output.  Cards are implemented as lists.  The zodiac signs are represented by integers from 0 to 4.\n",
      "\n",
      "0 : Circle [O]\n",
      "1 : Hourglass [X]\n",
      "2 : Triangle [A]\n",
      "3 : Square [H]\n",
      "4 : Star [S]\n",
      "\n",
      "A gamestate is implemented as a list.  The 0th and 1st element of the list are objects containing the two player's information, element 2 of the list is the current turn, element 3 is the current player (0 or 1) and the element 4 is the current phase (0=action phase, 1=play phase).\n",
      "\n",
      "The objects containing player information are lists.  The 0th element is the player's score.  The 1st element is the deck, the 2nd element is a list containing the field, from most recently placed to earliest placed, the 3rd element is a mask indicating which field cards are tapped, 0=untapped and 1=tapped, the 4th element is the discard pile.\n",
      "\n",
      "Cards in decks/fields/etc are represented by integers.  The corresponding card objects are stored in a global card list."
     ]
    },
    {
     "cell_type": "code",
     "collapsed": false,
     "input": [
      "def smile_effect(gamestate):\n",
      "    gamestate2 = gamestate\n",
      "    current_player = gamestate[3]\n",
      "    gamestate2[current_player][0] = gamestate[current_player][0] + 2\n",
      "\n",
      "card_smile = [\"Smile\", 0, 2, smile_effect]\n",
      "card_copy = [\"Copy\", 0, ]"
     ],
     "language": "python",
     "metadata": {},
     "outputs": [],
     "prompt_number": 1
    },
    {
     "cell_type": "code",
     "collapsed": false,
     "input": [],
     "language": "python",
     "metadata": {},
     "outputs": []
    }
   ],
   "metadata": {}
  }
 ]
}